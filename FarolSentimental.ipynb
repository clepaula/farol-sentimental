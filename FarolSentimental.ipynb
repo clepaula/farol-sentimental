{
  "nbformat": 4,
  "nbformat_minor": 0,
  "metadata": {
    "colab": {
      "name": "FarolSentimental.ipynb",
      "provenance": [],
      "authorship_tag": "ABX9TyP3r3VI9qHSDWlnz2SxiCQ6"
    },
    "kernelspec": {
      "name": "python3",
      "display_name": "Python 3"
    }
  },
  "cells": [
    {
      "cell_type": "code",
      "metadata": {
        "id": "zEwT4RpO9bwy"
      },
      "source": [
        "import tweepy\n",
        "import numpy as np\n",
        "from textblob import TextBlob"
      ],
      "execution_count": null,
      "outputs": []
    },
    {
      "cell_type": "code",
      "metadata": {
        "id": "QAdyIqbM9btt"
      },
      "source": [
        "consumer_key=''\n",
        "consumer_secret=''\n",
        "access_token =''\n",
        "access_token_secret=''"
      ],
      "execution_count": null,
      "outputs": []
    },
    {
      "cell_type": "code",
      "metadata": {
        "id": "q5rO7QBn9br7"
      },
      "source": [
        "auth = tweepy.OAuthHandler(consumer_key,consumer_secret)\n",
        "auth.set_access_token(access_token,access_token_secret)\n",
        "\n",
        "api = tweepy.API(auth)"
      ],
      "execution_count": null,
      "outputs": []
    },
    {
      "cell_type": "code",
      "metadata": {
        "id": "N2v_9a3M9boc"
      },
      "source": [
        "def is_english(text):\n",
        "    if text.detect_language() == 'en':\n",
        "        return True\n",
        "    return False"
      ],
      "execution_count": null,
      "outputs": []
    },
    {
      "cell_type": "code",
      "metadata": {
        "id": "wUYBpk159blc"
      },
      "source": [
        "def tweet_analysis(query):\n",
        "    tweets = tweepy.Cursor(api.search, q=query + \" -filter:retweets\").items(20)\n",
        "\n",
        "    subjectivities = []\n",
        "    polarities = []\n",
        "\n",
        "    for tweet in tweets:\n",
        "        phrase = TextBlob(tweet.text)\n",
        "\n",
        "        if not is_english(phrase):\n",
        "            phrase = TextBlob(str(phrase.translate(to='en')))\n",
        "\n",
        "        if phrase.sentiment.polarity != 0.0 and phrase.sentiment.subjectivity != 0.0:\n",
        "            polarities.append(phrase.sentiment.polarity)\n",
        "            subjectivities.append(phrase.sentiment.subjectivity)\n",
        "\n",
        "        print('Tweet: ' + tweet.text)\n",
        "        print('Polarity: ' + str(phrase.sentiment.polarity) + \" \\ \" + str(phrase.sentiment.subjectivity))\n",
        "        print('.....................')\n",
        "\n",
        "    return {'polarity':polarities, 'subjectivity':subjectivities}"
      ],
      "execution_count": null,
      "outputs": []
    },
    {
      "cell_type": "code",
      "metadata": {
        "id": "D_M6ZMlB9biU"
      },
      "source": [
        "def get_weighted_polarity_mean(valid_tweets):\n",
        "    return np.average(valid_tweets['polarity'],weights=valid_tweets['subjectivity'])"
      ],
      "execution_count": null,
      "outputs": []
    },
    {
      "cell_type": "code",
      "metadata": {
        "id": "Pp2G-2aP9bf0"
      },
      "source": [
        "def get_polarity_mean(valid_tweets):\n",
        "    return np.mean(valid_tweets['polarity'])"
      ],
      "execution_count": null,
      "outputs": []
    },
    {
      "cell_type": "code",
      "metadata": {
        "id": "jj1R-wXR90E7"
      },
      "source": [
        "def print_result(mean):\n",
        "    if mean > 0.0:\n",
        "        print('POSITIVE')\n",
        "    elif mean == 0.0:\n",
        "        print('NEUTRO')\n",
        "    else:\n",
        "        print('NEGATIVE')\n",
        "\n",
        "if __name__ == \"__main__\":\n",
        "    query = input(\"Entre a query de analise: \")\n",
        "    analysis = tweet_analysis(query)\n",
        "\n",
        "    print('MÉDIA PONDERADA: ' + str(get_weighted_polarity_mean(analysis)))\n",
        "    print_result(get_weighted_polarity_mean(analysis))\n",
        "\n",
        "    print('MÉDIA: ' + str(get_polarity_mean(analysis)))\n",
        "    print_result(get_polarity_mean(analysis))"
      ],
      "execution_count": null,
      "outputs": []
    }
  ]
}